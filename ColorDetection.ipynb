{
 "cells": [
  {
   "cell_type": "markdown",
   "metadata": {},
   "source": [
    "## Colour Detector\n",
    "\n",
    "In this Python colour detection project, we will create an application that will allow you to get the name of a colour by simply clicking on it."
   ]
  },
  {
   "cell_type": "code",
   "execution_count": 1,
   "metadata": {},
   "outputs": [],
   "source": [
    "# Importing Packages\n",
    "\n",
    "import pandas as pd\n",
    "import cv2"
   ]
  },
  {
   "cell_type": "code",
   "execution_count": 2,
   "metadata": {},
   "outputs": [
    {
     "name": "stdout",
     "output_type": "stream",
     "text": [
      "     air_force_blue_raf   Air Force Blue (Raf)  #5d8aa8   93  138  168\n",
      "0   air_force_blue_usaf  Air Force Blue (Usaf)  #00308f    0   48  143\n",
      "1  air_superiority_blue   Air Superiority Blue  #72a0c1  114  160  193\n",
      "2       alabama_crimson        Alabama Crimson  #a32638  163   38   56\n",
      "3            alice_blue             Alice Blue  #f0f8ff  240  248  255\n",
      "4      alizarin_crimson       Alizarin Crimson  #e32636  227   38   54\n"
     ]
    }
   ],
   "source": [
    "#accesing image and coulor folder and creating dataframe\n",
    "\n",
    "img_path = 'E:\\projects\\colorpic.jpg'\n",
    "csv_path = 'E:\\projects\\colors.csv'\n",
    "\n",
    "df = pd.read_csv(csv_path)\n",
    "print(df.head())"
   ]
  },
  {
   "cell_type": "code",
   "execution_count": 3,
   "metadata": {},
   "outputs": [
    {
     "name": "stdout",
     "output_type": "stream",
     "text": [
      "                  color             color_name      hex    R    G    B\n",
      "0    air_force_blue_raf   Air Force Blue (Raf)  #5d8aa8   93  138  168\n",
      "1   air_force_blue_usaf  Air Force Blue (Usaf)  #00308f    0   48  143\n",
      "2  air_superiority_blue   Air Superiority Blue  #72a0c1  114  160  193\n",
      "3       alabama_crimson        Alabama Crimson  #a32638  163   38   56\n",
      "4            alice_blue             Alice Blue  #f0f8ff  240  248  255\n"
     ]
    }
   ],
   "source": [
    "# assigning coloum name to the dataframe\n",
    "\n",
    "index = ['color','color_name','hex','R','G', 'B']\n",
    "df = pd.read_csv(csv_path, names = index , header = None)\n",
    "print(df.head())"
   ]
  },
  {
   "cell_type": "code",
   "execution_count": 4,
   "metadata": {},
   "outputs": [
    {
     "name": "stdout",
     "output_type": "stream",
     "text": [
      "865\n",
      "color           air_force_blue_usaf\n",
      "color_name    Air Force Blue (Usaf)\n",
      "hex                         #00308f\n",
      "R                                 0\n",
      "G                                48\n",
      "B                               143\n",
      "Name: 1, dtype: object\n"
     ]
    }
   ],
   "source": [
    "#checking total rows \n",
    "print(len(df))\n",
    "print(df.loc[1])"
   ]
  },
  {
   "cell_type": "code",
   "execution_count": 5,
   "metadata": {},
   "outputs": [],
   "source": [
    "#reading the image\n",
    "img = cv2.imread(img_path)\n",
    "\n",
    "#resizing the image to fit \n",
    "img = cv2.resize(img,(800,600))\n"
   ]
  },
  {
   "cell_type": "code",
   "execution_count": 6,
   "metadata": {},
   "outputs": [],
   "source": [
    "#declaring variable \n",
    "clicked = False\n",
    "r = g = b = xpos = ypos = 0"
   ]
  },
  {
   "cell_type": "code",
   "execution_count": 7,
   "metadata": {},
   "outputs": [],
   "source": [
    "# defining function for getting color name\n",
    "# To get the color name, we calculate a distance(d) which tells us how close \n",
    "# we are to color and choose the one having minimum distance.\n",
    "\n",
    "def get_color_name(R,G,B):\n",
    "    minimum = 9000\n",
    "    for i in range(len(df)):\n",
    "        d = abs(R-int(df.loc[i,'R']))+abs(G - int(df.loc[i,'G']))+abs(B - int(df.loc[i,'B']))\n",
    "        if d <= minimum :\n",
    "            minimum = d\n",
    "            cname = df.loc[i,'color_name']\n",
    "            \n",
    "    return cname\n"
   ]
  },
  {
   "cell_type": "code",
   "execution_count": 8,
   "metadata": {},
   "outputs": [],
   "source": [
    "#It will calculate the rgb values of the pixel which we double click. \n",
    "#The function parameters have the event name, (x,y) coordinates of the mouse position, etc. \n",
    "#In the function, we check if the event is double-clicked then we calculate and set the r,g,b values \n",
    "#along with x,y positions of the mouse.\n",
    "\n",
    "def draw_function(event,x,y,flags,params):\n",
    "    if event == cv2.EVENT_LBUTTONDBLCLK :\n",
    "        global clicked , r ,g,b,xpos , ypos\n",
    "        clicked = True\n",
    "        xpos = x\n",
    "        ypos = y\n",
    "        b,g,r = img[y,x]\n",
    "        b = int(b)\n",
    "        g = int(g)\n",
    "        r = int(r)\n"
   ]
  },
  {
   "cell_type": "code",
   "execution_count": 9,
   "metadata": {},
   "outputs": [],
   "source": [
    "cv2.namedWindow('image')\n",
    "cv2.setMouseCallback('image', draw_function)\n",
    "\n",
    "#Whenever a double click event occurs, it will update the color name and RGB values on the window.\n",
    "#Using the cv2.imshow() function, we draw the image on the window. \n",
    "#When the user double clicks the window, we draw a rectangle and get the color name to draw text\n",
    "#on the window using cv2.rectangle and cv2.putText() functions.\n",
    "\n",
    "while True :\n",
    "    cv2.imshow('image',img)\n",
    "    if clicked :\n",
    "        cv2.rectangle(img,(20,20),(600,60),(b,g,r),-1)\n",
    "        text = get_color_name(r,g,b) + 'R = ' + str(r) + 'G = '+ str(g) + 'B = ' + str(b)\n",
    "        cv2.putText(img,text ,(50,50),2,0.8,(255,255,255),2,cv2.LINE_AA)\n",
    "        if r+g+b >= 600 :\n",
    "            cv2.putText(img,text ,(50,50),2,0.8,(255,255,255),2,cv2.LINE_AA)\n",
    "            \n",
    "        clicked = False\n",
    "        \n",
    "    if cv2.waitKey(20) & 0xFF == 27:\n",
    "        break\n",
    "\n",
    "\n",
    "cv2.destroyAllWindows()\n",
    "\n"
   ]
  }
 ],
 "metadata": {
  "kernelspec": {
   "display_name": "Python 3",
   "language": "python",
   "name": "python3"
  },
  "language_info": {
   "codemirror_mode": {
    "name": "ipython",
    "version": 3
   },
   "file_extension": ".py",
   "mimetype": "text/x-python",
   "name": "python",
   "nbconvert_exporter": "python",
   "pygments_lexer": "ipython3",
   "version": "3.6.13"
  }
 },
 "nbformat": 4,
 "nbformat_minor": 4
}
